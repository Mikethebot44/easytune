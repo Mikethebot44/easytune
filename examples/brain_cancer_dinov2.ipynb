{
  "cells": [
    {
      "cell_type": "markdown",
      "metadata": {},
      "source": [
        "# Brain Cancer MRI: Fine-tune DINOv2 (facebook/dinov2-base) with EasyTune\n",
        "\n",
        "This notebook loads the Kaggle brain cancer dataset via kagglehub (HF adapter), prepares an image-folder layout, and fine-tunes `facebook/dinov2-base` for image similarity with EasyTune.\n"
      ]
    },
    {
      "cell_type": "code",
      "execution_count": null,
      "metadata": {},
      "outputs": [
        {
          "name": "stdout",
          "output_type": "stream",
          "text": [
            "Locating project root and installing easytune in editable mode ...\n",
            "Installing from: c:\\Users\\sunco\\OneDrive\\Desktop\\fine-tuning\\easytune\n"
          ]
        }
      ],
      "source": [
        "# If running locally or on Colab, ensure dependencies are installed\n",
        "# This cell locates the repo root (with setup.py) and installs easytune in editable mode\n",
        "# Also tries a direct sys.path fallback so a restart isn't required\n",
        "import sys, subprocess\n",
        "from pathlib import Path\n",
        "\n",
        "try:\n",
        "    import easytune  # noqa\n",
        "    print(\"easytune already available\")\n",
        "except Exception:\n",
        "    # First try adding the parent directory (project root containing the package) to sys.path\n",
        "    candidate = Path.cwd().parent\n",
        "    if (candidate / \"easytune\" / \"__init__.py\").exists():\n",
        "        sys.path.insert(0, str(candidate))\n",
        "        try:\n",
        "            import easytune  # noqa\n",
        "            print(\"easytune imported via sys.path fallback\")\n",
        "        except Exception:\n",
        "            pass\n",
        "    # If still not importable, locate root and pip install -e\n",
        "    if 'easytune' not in sys.modules:\n",
        "        print(\"Locating project root and installing easytune in editable mode ...\")\n",
        "        cwd = Path.cwd()\n",
        "        root = None\n",
        "        for p in [cwd, *cwd.parents]:\n",
        "            if (p / \"setup.py\").exists() and (p / \"easytune\").exists():\n",
        "                root = p\n",
        "                break\n",
        "        if root is None:\n",
        "            for c in [Path(\".\"), Path(\"..\"), Path(\"../..\")]:\n",
        "                if (c / \"setup.py\").exists() and (c / \"easytune\").exists():\n",
        "                    root = c.resolve()\n",
        "                    break\n",
        "        if root is None:\n",
        "            raise RuntimeError(\"Could not find project root with setup.py; please cd to repo root.\")\n",
        "        print(f\"Installing from: {root}\")\n",
        "        subprocess.check_call([sys.executable, \"-m\", \"pip\", \"install\", \"-e\", str(root)])\n",
        "        import easytune  # noqa\n",
        "        print(\"easytune installed and imported\")\n",
        "\n",
        "# Optional: KaggleHub for dataset loading via Hugging Face adapter\n",
        "try:\n",
        "    import kagglehub  # noqa\n",
        "except Exception:\n",
        "    subprocess.check_call([sys.executable, \"-m\", \"pip\", \"install\", \"kagglehub[hf-datasets]\"])\n",
        "\n",
        "# Ensure scikit-learn for StratifiedShuffleSplit\n",
        "try:\n",
        "    import sklearn  # noqa\n",
        "except Exception:\n",
        "    subprocess.check_call([sys.executable, \"-m\", \"pip\", \"install\", \"scikit-learn\"])\n"
      ]
    },
    {
      "cell_type": "code",
      "execution_count": 4,
      "metadata": {},
      "outputs": [
        {
          "name": "stdout",
          "output_type": "stream",
          "text": [
            "Downloading from https://www.kaggle.com/api/v1/datasets/download/orvile/brain-cancer-mri-dataset?dataset_version_number=2...\n"
          ]
        },
        {
          "name": "stderr",
          "output_type": "stream",
          "text": [
            "100%|██████████| 144M/144M [00:23<00:00, 6.39MB/s] "
          ]
        },
        {
          "name": "stdout",
          "output_type": "stream",
          "text": [
            "Extracting files...\n"
          ]
        },
        {
          "name": "stderr",
          "output_type": "stream",
          "text": [
            "\n"
          ]
        },
        {
          "name": "stdout",
          "output_type": "stream",
          "text": [
            "Downloaded dataset directory: C:\\Users\\sunco\\.cache\\kagglehub\\datasets\\orvile\\brain-cancer-mri-dataset\\versions\\2\n",
            "DIR: C:\\Users\\sunco\\.cache\\kagglehub\\datasets\\orvile\\brain-cancer-mri-dataset\\versions\\2\n"
          ]
        }
      ],
      "source": [
        "# Download the Kaggle dataset locally and return its directory\n",
        "import kagglehub\n",
        "\n",
        "dataset_dir = kagglehub.dataset_download(\"orvile/brain-cancer-mri-dataset\")\n",
        "print(\"Downloaded dataset directory:\", dataset_dir)\n",
        "\n",
        "# Inspect a few entries\n",
        "import os\n",
        "for root, dirs, files in os.walk(dataset_dir):\n",
        "    print(\"DIR:\", root)\n",
        "    # show a small sample of files\n",
        "    sample = [f for f in files if os.path.splitext(f)[1].lower() in {\".jpg\",\".jpeg\",\".png\",\".bmp\",\".gif\"}]\n",
        "    if sample:\n",
        "        print(\"SAMPLE IMAGES:\", sample[:5])\n",
        "    # stop after printing top-level and one sublevel\n",
        "    break\n"
      ]
    },
    {
      "cell_type": "code",
      "execution_count": 5,
      "metadata": {},
      "outputs": [
        {
          "name": "stdout",
          "output_type": "stream",
          "text": [
            "Detected dataset root for training: C:\\Users\\sunco\\.cache\\kagglehub\\datasets\\orvile\\brain-cancer-mri-dataset\\versions\\2\n"
          ]
        }
      ],
      "source": [
        "# Build a folder-of-classes view expected by EasyTune\n",
        "# The dataset provides subfolders per class; detect them and point EasyTune to the root\n",
        "import os\n",
        "from pathlib import Path\n",
        "\n",
        "root = Path(dataset_dir)\n",
        "class_dirs = [p for p in root.rglob(\"*\") if p.is_dir() and any(suffix in {\".jpg\",\".jpeg\",\".png\",\".bmp\",\".gif\"} for suffix in [q.suffix.lower() for q in p.glob(\"*\")])]\n",
        "if not class_dirs:\n",
        "    # Fallback: some datasets have split subfolders like train/val/test\n",
        "    # Try to find a split with class subfolders\n",
        "    split_candidates = [d for d in root.iterdir() if d.is_dir()]\n",
        "    selected = None\n",
        "    for sc in split_candidates:\n",
        "        cds = [p for p in sc.iterdir() if p.is_dir()]\n",
        "        if cds and any(list(cd.glob(\"*.png\")) or list(cd.glob(\"*.jpg\")) for cd in cds):\n",
        "            selected = sc\n",
        "            break\n",
        "    if selected is None:\n",
        "        raise RuntimeError(\"Could not detect class subfolders with images. Please inspect dataset_dir.\")\n",
        "    detected_root = selected\n",
        "else:\n",
        "    detected_root = root\n",
        "\n",
        "print(\"Detected dataset root for training:\", detected_root)\n"
      ]
    },
    {
      "cell_type": "code",
      "execution_count": null,
      "metadata": {},
      "outputs": [],
      "source": [
        "# No export needed when the dataset is already arranged in class subfolders.\n",
        "# If your dataset has clear train/val splits, you may point to just one of them.\n",
        "# Here we point to detected_root and let EasyTune create its own validation split.\n"
      ]
    },
    {
      "cell_type": "code",
      "execution_count": null,
      "metadata": {},
      "outputs": [
        {
          "name": "stdout",
          "output_type": "stream",
          "text": [
            "Initializing FineTuner ...\n"
          ]
        },
        {
          "data": {
            "application/vnd.jupyter.widget-view+json": {
              "model_id": "4a1c5d4c4c0749ababe01877cb1dcefe",
              "version_major": 2,
              "version_minor": 0
            },
            "text/plain": [
              "preprocessor_config.json:   0%|          | 0.00/436 [00:00<?, ?B/s]"
            ]
          },
          "metadata": {},
          "output_type": "display_data"
        },
        {
          "name": "stderr",
          "output_type": "stream",
          "text": [
            "c:\\Users\\sunco\\AppData\\Local\\Programs\\Python\\Python313\\Lib\\site-packages\\huggingface_hub\\file_download.py:143: UserWarning: `huggingface_hub` cache-system uses symlinks by default to efficiently store duplicated files but your machine does not support them in C:\\Users\\sunco\\.cache\\huggingface\\hub\\models--facebook--dinov2-base. Caching files will still work but in a degraded version that might require more space on your disk. This warning can be disabled by setting the `HF_HUB_DISABLE_SYMLINKS_WARNING` environment variable. For more details, see https://huggingface.co/docs/huggingface_hub/how-to-cache#limitations.\n",
            "To support symlinks on Windows, you either need to activate Developer Mode or to run Python as an administrator. In order to activate developer mode, see this article: https://docs.microsoft.com/en-us/windows/apps/get-started/enable-your-device-for-development\n",
            "  warnings.warn(message)\n",
            "Using a slow image processor as `use_fast` is unset and a slow processor was saved with this model. `use_fast=True` will be the default behavior in v4.52, even if the model was saved with a slow processor. This will result in minor differences in outputs. You'll still be able to use a slow processor with `use_fast=False`.\n"
          ]
        },
        {
          "data": {
            "application/vnd.jupyter.widget-view+json": {
              "model_id": "512e8603cdc0444a896a958b371d174d",
              "version_major": 2,
              "version_minor": 0
            },
            "text/plain": [
              "config.json:   0%|          | 0.00/548 [00:00<?, ?B/s]"
            ]
          },
          "metadata": {},
          "output_type": "display_data"
        },
        {
          "name": "stderr",
          "output_type": "stream",
          "text": [
            "Xet Storage is enabled for this repo, but the 'hf_xet' package is not installed. Falling back to regular HTTP download. For better performance, install the package with: `pip install huggingface_hub[hf_xet]` or `pip install hf_xet`\n"
          ]
        },
        {
          "data": {
            "application/vnd.jupyter.widget-view+json": {
              "model_id": "65fee6aa3fe74cf2acb090cd94a08d63",
              "version_major": 2,
              "version_minor": 0
            },
            "text/plain": [
              "model.safetensors:   0%|          | 0.00/346M [00:00<?, ?B/s]"
            ]
          },
          "metadata": {},
          "output_type": "display_data"
        },
        {
          "name": "stdout",
          "output_type": "stream",
          "text": [
            "Loaded 6056 images from folder; total 6056 samples\n",
            "Training ...\n"
          ]
        },
        {
          "name": "stderr",
          "output_type": "stream",
          "text": [
            "c:\\Users\\sunco\\OneDrive\\Desktop\\fine-tuning\\easytune\\easytune\\utils.py:12: UserWarning: Highly imbalanced classes detected: majority class fraction 1.00\n",
            "  warnings.warn(message)\n"
          ]
        },
        {
          "data": {
            "application/vnd.jupyter.widget-view+json": {
              "model_id": "9daca937d82d43b4984f3bfce380906e",
              "version_major": 2,
              "version_minor": 0
            },
            "text/plain": [
              "Epoch 1/5:   0%|          | 0/303 [00:00<?, ?it/s]"
            ]
          },
          "metadata": {},
          "output_type": "display_data"
        }
      ],
      "source": [
        "# Train with EasyTune FineTuner from detected_root\n",
        "# Extra sys.path fallback to ensure import without restart\n",
        "import sys\n",
        "from pathlib import Path\n",
        "candidate = Path.cwd().parent\n",
        "if 'easytune' not in sys.modules and (candidate / 'easytune' / '__init__.py').exists():\n",
        "    sys.path.insert(0, str(candidate))\n",
        "\n",
        "from easytune import FineTuner\n",
        "import os\n",
        "\n",
        "model_name = \"facebook/dinov2-base\"\n",
        "\n",
        "print(\"Initializing FineTuner ...\")\n",
        "ft = FineTuner(model=model_name, task=\"image-similarity\", device=\"auto\")\n",
        "ft.add_from_folder(str(detected_root), validation_split=0.2)\n",
        "\n",
        "print(\"Training ...\")\n",
        "ft.train(epochs=5, batch_size=16, learning_rate=1e-5, temperature=0.07)\n",
        "\n",
        "save_dir = \"./models/brain_cancer_dinov2_adapter\"\n",
        "os.makedirs(save_dir, exist_ok=True)\n",
        "ft.save(save_dir)\n",
        "print(\"Saved to:\", save_dir)\n"
      ]
    },
    {
      "cell_type": "markdown",
      "metadata": {},
      "source": [
        "## Run this notebook on Google Colab using local files (no PyPI publish)\n",
        "\n",
        "1. Upload the project zip to Colab (or clone from your private repo):\n",
        "   - Zip the project locally from the repo root so `setup.py` and the `easytune/` package are at the top level.\n",
        "   - In Colab, upload the zip and unzip:\n",
        "```bash\n",
        "!unzip -q your_project.zip -d /content\n",
        "%cd /content/fine-tuning  # adjust if folder name differs\n",
        "```\n",
        "2. Install the local package in editable mode inside Colab:\n",
        "```bash\n",
        "!pip install -e .\n",
        "```\n",
        "3. Open this example notebook or create a new one in Colab and run cells. If the environment was started before install, restart the runtime once after step 2.\n",
        "4. If you prefer mounting Google Drive to access the local files instead of uploading a zip:\n",
        "```python\n",
        "from google.colab import drive\n",
        "drive.mount('/content/drive')\n",
        "%cd /content/drive/MyDrive/path/to/fine-tuning\n",
        "!pip install -e .\n",
        "```\n",
        "5. Install kagglehub if not already installed:\n",
        "```bash\n",
        "!pip install kagglehub[hf-datasets]\n",
        "```\n",
        "6. Then run the dataset load + training cells above as-is. No PyPI publish is required; Colab will import `easytune` from the local files you installed in editable mode.\n"
      ]
    }
  ],
  "metadata": {
    "kernelspec": {
      "display_name": "Python 3",
      "language": "python",
      "name": "python3"
    },
    "language_info": {
      "codemirror_mode": {
        "name": "ipython",
        "version": 3
      },
      "file_extension": ".py",
      "mimetype": "text/x-python",
      "name": "python",
      "nbconvert_exporter": "python",
      "pygments_lexer": "ipython3",
      "version": "3.13.3"
    }
  },
  "nbformat": 4,
  "nbformat_minor": 2
}
